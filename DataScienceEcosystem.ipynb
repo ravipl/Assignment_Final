{
 "cells": [
  {
   "cell_type": "markdown",
   "id": "5ee07f14-fb5d-41f8-9a72-3a565212a506",
   "metadata": {},
   "source": [
    "#Data Science Tools and Ecosystem"
   ]
  },
  {
   "cell_type": "markdown",
   "id": "63585451-bc74-4f7b-a874-21cf2bd03020",
   "metadata": {},
   "source": [
    "#In this notebook, Data Science Tools and Ecosystem are summarized"
   ]
  },
  {
   "cell_type": "markdown",
   "id": "359ad7af-46e3-4133-9944-2e1e70ee221b",
   "metadata": {},
   "source": [
    "#Some of the popular languages that Data Scientists use are:\n",
    "1. Python\n",
    "2. R\n",
    "3. Scala\n",
    "4. Java"
   ]
  },
  {
   "cell_type": "markdown",
   "id": "72864396-1fde-4a01-b7d8-96733d96385d",
   "metadata": {},
   "source": [
    "#Some of the commonly used libraries used by Data Scientists include:\n",
    "1. Matplotlib\n",
    "2. numpy\n",
    "3. pandas\n",
    "4. seaborn\n",
    "5. Tensorflow"
   ]
  },
  {
   "cell_type": "markdown",
   "id": "a225c9de-f897-40a0-bfc2-bccf5d597ec0",
   "metadata": {},
   "source": [
    "#Data Science Tools\n",
    "\n",
    "|Data Science Tools|\n",
    "|------------------|\n",
    "|Python|\n",
    "|R|\n",
    "|Github|\n"
   ]
  },
  {
   "cell_type": "markdown",
   "id": "534e175c-3b4b-4230-8d37-1a65e596538c",
   "metadata": {},
   "source": [
    "###Below are a few examples of evaluating arithmetic expressions in Python\n",
    "\n",
    "##### +, /, *, -"
   ]
  },
  {
   "cell_type": "code",
   "execution_count": 38,
   "id": "736b792f-e8ab-4ba6-973f-beeda220fcf1",
   "metadata": {},
   "outputs": [
    {
     "name": "stdout",
     "output_type": "stream",
     "text": [
      "17\n"
     ]
    }
   ],
   "source": [
    "# This a simple arithmetic expression to mutiply then add integers\n",
    "\n",
    "print((3*4)+5)"
   ]
  },
  {
   "cell_type": "code",
   "execution_count": 50,
   "id": "a6f83b15-efa6-417c-af1d-41611f0e7901",
   "metadata": {
    "scrolled": true
   },
   "outputs": [
    {
     "name": "stdout",
     "output_type": "stream",
     "text": [
      "3 hrs 20 mins\n"
     ]
    }
   ],
   "source": [
    "# This will convert 200 minutes to hours by diving by 60\n",
    "hrs = int(200/60)\n",
    "mins = 200 % 60\n",
    "print(hrs,\"hrs\", mins,\"mins\")"
   ]
  },
  {
   "cell_type": "markdown",
   "id": "f3f9ce10-f01e-41dd-b4b0-33f5cbba6aec",
   "metadata": {},
   "source": [
    "#Objectives:\n",
    "- Write title using Markdown cell\n",
    "- Tools used in data science\n",
    "- Languages used in Datascience\n",
    "- Ordered and un ordered list\n",
    "- Evaluating Expression"
   ]
  },
  {
   "cell_type": "code",
   "execution_count": 77,
   "id": "4e82654d-c439-4e99-8358-f1b8f6bd8538",
   "metadata": {},
   "outputs": [],
   "source": [
    "##Author:\n",
    "\n",
    "# Ravi Lingegowda"
   ]
  }
 ],
 "metadata": {
  "kernelspec": {
   "display_name": "Python [conda env:base] *",
   "language": "python",
   "name": "conda-base-py"
  },
  "language_info": {
   "codemirror_mode": {
    "name": "ipython",
    "version": 3
   },
   "file_extension": ".py",
   "mimetype": "text/x-python",
   "name": "python",
   "nbconvert_exporter": "python",
   "pygments_lexer": "ipython3",
   "version": "3.12.7"
  }
 },
 "nbformat": 4,
 "nbformat_minor": 5
}
